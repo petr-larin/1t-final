{
 "cells": [
  {
   "cell_type": "code",
   "execution_count": 1,
   "id": "e3d7b0cb",
   "metadata": {},
   "outputs": [],
   "source": [
    "import findspark\n",
    "findspark.init()\n",
    "from pyspark.sql import SparkSession\n",
    "from pyspark.sql.functions import *\n",
    "from pyspark.sql.types import IntegerType, FloatType"
   ]
  },
  {
   "cell_type": "code",
   "execution_count": 20,
   "id": "3196c0ab",
   "metadata": {},
   "outputs": [
    {
     "name": "stdout",
     "output_type": "stream",
     "text": [
      "+-----------+------+------+------+------+-------+------+------+------+-------+------+------+------+------+-------+-------+\n",
      "|pickup_date|per_0p|per_1p|per_2p|per_3p|per_4p+|min_0p|max_0p|min_1p| max_1p|min_2p|max_2p|min_3p|max_3p|min_4p+|max_4p+|\n",
      "+-----------+------+------+------+------+-------+------+------+------+-------+------+------+------+------+-------+-------+\n",
      "| 2019-12-31|   0.0| 57.14| 17.46|  4.76|  20.63|  NULL|  NULL|   5.8|  71.62|   9.8|  41.8|  16.0| 34.42|    6.8|  54.36|\n",
      "| 2020-01-01|  1.52| 63.51| 19.48|  5.75|   9.74|   0.3|145.55|   0.3|  465.3|   0.3|281.42|   0.3|433.04|    0.3| 350.42|\n",
      "| 2020-01-02|   1.7| 68.81| 16.01|  4.74|   8.74|   0.3|174.36|   0.3|  492.8|   0.3|328.04|   0.3|215.54|    3.3|  352.3|\n",
      "| 2020-01-03|  1.77| 68.87| 16.31|  4.58|   8.47|   0.3|187.42|   0.3| 1242.3|   0.3| 370.3|  0.31|409.59|    0.3|  348.3|\n",
      "| 2020-01-04|  1.69| 65.65| 18.38|  5.14|   9.14|   0.3|152.54|   0.3|  965.8|   0.3| 481.3|   0.3| 313.3|    0.3|  577.8|\n",
      "| 2020-01-05|   1.7| 67.69| 17.35|  4.77|   8.49|   0.3|435.42|   0.3| 596.42|   0.3| 375.3|  0.31|333.34|    3.3| 264.36|\n",
      "| 2020-01-06|  1.82| 73.79| 13.53|  3.69|   7.17|   0.3|275.42|   0.3|1040.39|   0.3|276.36|   3.3| 200.3|    0.6|  185.9|\n",
      "| 2020-01-07|  1.76| 73.99| 13.66|  3.46|   7.12|   0.3| 114.8|  0.01| 410.67|  0.31| 375.3|   3.3| 343.3|    3.3|  242.8|\n",
      "| 2020-01-08|  1.83| 74.03| 13.53|  3.51|    7.1|   0.3|319.03|   0.3| 914.55|   0.3|282.36|   0.3| 350.8|    0.3| 253.67|\n",
      "| 2020-01-09|  1.86| 74.12| 13.54|  3.48|   7.01|   0.3|186.05|   0.3|  620.3|   0.3|231.65|   0.3| 230.3|    3.3|  404.3|\n",
      "| 2020-01-10|  1.82| 72.01| 14.85|  3.92|    7.4|   2.8| 253.3|   0.3|  362.3|   0.3|245.05|   3.3|187.55|    3.3| 284.76|\n",
      "| 2020-01-11|  1.68| 67.41| 17.99|  4.65|   8.28|   0.3|143.45|   0.3| 416.15|   0.3|228.02|   0.3| 250.3|    3.3| 424.29|\n",
      "| 2020-01-12|  1.66| 68.88|  17.0|  4.56|   7.91|   0.3| 161.8|   0.3|  450.3|   0.3| 431.6|  0.31|331.42|    0.3| 658.35|\n",
      "| 2020-01-13|   1.8| 74.78| 13.02|  3.51|    6.9|   0.3|276.29|   0.3| 534.12|   0.3|475.17|   3.3| 311.3|    3.3| 312.46|\n",
      "| 2020-01-14|  1.84| 74.49| 13.16|  3.43|   7.08|   0.3| 300.3|   0.3| 340.01|   0.3| 420.3|   0.3| 300.3|    1.6| 412.09|\n",
      "| 2020-01-15|  1.83|  74.5| 13.35|  3.34|   6.99|   0.3| 322.8|  0.01| 480.36|   0.3|408.95|   0.3| 190.3|    0.3| 179.16|\n",
      "| 2020-01-16|  1.84|  74.1| 13.52|  3.44|   7.09|   0.3|112.36|   0.3|  434.3|   0.3|291.35|   3.3|207.95|    1.3| 156.04|\n",
      "| 2020-01-17|  1.81| 72.25| 14.67|  3.95|   7.33|   0.3| 281.3|  0.02|  769.8|   0.3|360.96|   3.3| 420.3|   0.02| 351.29|\n",
      "| 2020-01-18|  1.74|  67.0| 17.86|   4.7|   8.69|  0.31|166.92|   0.3|  499.8|   0.3| 387.6|   0.3|435.54|    3.3| 384.66|\n",
      "| 2020-01-19|  1.86|  67.2| 17.59|   4.9|   8.46|   0.8|160.92|   0.3|  464.8|  0.02| 407.8|   0.3|499.56|    3.3| 222.36|\n",
      "| 2020-01-20|  1.84| 70.86| 15.51|  4.23|   7.56|   0.3| 226.3|   0.3|  480.3|   0.3| 617.3|  0.31|409.89|    3.3| 270.96|\n",
      "| 2020-01-21|  1.94| 74.34| 13.22|  3.39|   7.11|   0.3| 300.3|   0.3| 4268.3|   0.3| 495.3|   0.3|498.66|    0.3|  730.3|\n",
      "| 2020-01-22|  1.91| 74.63| 13.14|  3.31|    7.0|  0.31| 400.0|   0.3| 1110.8|   0.3|294.96|   3.3| 400.3|    3.3|  264.2|\n",
      "| 2020-01-23|  1.87| 74.11| 13.39|  3.41|   7.23|  0.31|194.29|   0.3| 553.14|   0.3|312.88|   0.3| 400.3|    0.3| 367.35|\n",
      "| 2020-01-24|  1.96|  72.1| 14.74|   3.8|    7.4|   0.3| 165.3|   0.3| 735.17|   0.3|308.47|   0.3|275.69|    0.3|  367.3|\n",
      "| 2020-01-25|  1.72| 66.94| 18.04|  4.72|   8.58|   0.3| 315.3|   0.3| 468.22|   0.3|173.72|   3.3|480.36|    3.3|  153.8|\n",
      "| 2020-01-26|  1.78| 68.53| 17.09|  4.56|   8.04|   0.3|186.35|   0.3| 1722.3|   0.3|345.34|   3.3| 220.8|    0.3| 217.86|\n",
      "| 2020-01-27|  1.91| 74.46| 13.06|  3.48|   7.08|   0.3| 260.3|   0.3| 425.92|   0.3| 240.3|  3.15|318.29|    0.3| 238.55|\n",
      "| 2020-01-28|  1.89| 74.62| 13.17|  3.25|   7.08|  0.31|143.05|  0.01|  587.3|   0.3|298.12|  0.99|260.31|    3.3|  294.8|\n",
      "| 2020-01-29|  1.84| 74.84| 13.01|  3.27|   7.03|   3.3|209.17|   0.3| 600.36|   0.3|454.19|   3.3| 245.3|    3.3| 227.66|\n",
      "| 2020-01-30|  1.89| 74.57| 13.13|  3.38|   7.03|   3.3|137.35|   0.3|  600.3|   0.3|243.49|   0.3| 220.3|    0.3| 411.82|\n",
      "| 2020-01-31|  1.81| 72.73| 14.58|  3.72|   7.15|   0.3|159.77|   0.3| 906.35|   0.3|360.36|   3.3|135.36|    3.3| 293.16|\n",
      "+-----------+------+------+------+------+-------+------+------+------+-------+------+------+------+------+-------+-------+\n",
      "\n"
     ]
    }
   ],
   "source": [
    "spark = SparkSession.builder\\\n",
    "      .master(\"local[2]\")\\\n",
    "      .appName(\"SparkFirst\")\\\n",
    "      .config(\"spark.executor.memory\", \"32g\")\\\n",
    "      .config(\"spark.driver.memory\", \"32g\")\\\n",
    "      .config(\"spark.executor.cores\", 4)\\\n",
    "      .config(\"spark.dynamicAllocation.enabled\", \"true\")\\\n",
    "      .config(\"spark.dynamicAllocation.maxExecutors\", 4)\\\n",
    "      .config(\"spark.shuffle.service.enabled\", \"true\")\\\n",
    "      .getOrCreate()\n",
    "df = spark.read.option(\"header\", True)\\\n",
    "               .option(\"inferSchema\", \"true\")\\\n",
    "               .csv(\"input_data/yellow_tripdata_2020-01.csv\")\\\n",
    "               .dropna()\n",
    "df = df.filter((to_date(df.tpep_pickup_datetime) <= '2020-01-31') &\n",
    "               (to_date(df.tpep_dropoff_datetime) >= '2020-01-01') &\n",
    "               (df.total_amount > 0))\n",
    "df = df.drop(\"VendorID\", \n",
    "             \"tpep_dropoff_datetime\", \n",
    "             \"RatecodeID\", \n",
    "             \"store_and_fwd_flag\", \n",
    "             \"PULocationID\", \n",
    "             \"DOLocationID\", \n",
    "             \"payment_type\",\n",
    "             \"fare_amount\",\n",
    "             \"extra\",\n",
    "             \"mta_tax\",\n",
    "             \"tip_amount\",\n",
    "             \"tolls_amount\",\n",
    "             \"improvement_surcharge\",\n",
    "             \"congestion_surcharge\")\n",
    "@udf(returnType = IntegerType())\n",
    "def case_s(n, x): return 1 if x == n else 0\n",
    "\n",
    "@udf(returnType = IntegerType())\n",
    "def case_s4(x): return 1 if x > 3 else 0\n",
    "\n",
    "@udf(returnType = FloatType())\n",
    "def case_m(n, n_pass, x): return x if n_pass == n else None\n",
    "\n",
    "@udf(returnType = FloatType())\n",
    "def case_m4(n_pass, x): return x if n_pass > 3 else None\n",
    "\n",
    "df = df.select(to_date(df.tpep_pickup_datetime).alias(\"pickup_date\"), df.passenger_count, df.total_amount)\\\n",
    "  .groupBy(\"pickup_date\")\\\n",
    "  .agg(sum(case_s(lit(0), df.passenger_count)).alias(\"n_0\"),\n",
    "       sum(case_s(lit(1), df.passenger_count)).alias(\"n_1\"),\n",
    "       sum(case_s(lit(2), df.passenger_count)).alias(\"n_2\"),\n",
    "       sum(case_s(lit(3), df.passenger_count)).alias(\"n_3\"),\n",
    "       sum(case_s4(df.passenger_count)).alias(\"n_4\"),\n",
    "       min(case_m(lit(0), df.passenger_count, df.total_amount)).alias(\"min_0p\"),\n",
    "       max(case_m(lit(0), df.passenger_count, df.total_amount)).alias(\"max_0p\"),\n",
    "       min(case_m(lit(1), df.passenger_count, df.total_amount)).alias(\"min_1p\"),\n",
    "       max(case_m(lit(1), df.passenger_count, df.total_amount)).alias(\"max_1p\"),\n",
    "       min(case_m(lit(2), df.passenger_count, df.total_amount)).alias(\"min_2p\"),\n",
    "       max(case_m(lit(2), df.passenger_count, df.total_amount)).alias(\"max_2p\"),\n",
    "       min(case_m(lit(3), df.passenger_count, df.total_amount)).alias(\"min_3p\"),\n",
    "       max(case_m(lit(3), df.passenger_count, df.total_amount)).alias(\"max_3p\"),\n",
    "       min(case_m4(df.passenger_count, df.total_amount)).alias(\"min_4p\"),\n",
    "       max(case_m4(df.passenger_count, df.total_amount)).alias(\"max_4p\"))\n",
    "df = df.select(df.pickup_date, \n",
    "       round((df.n_0 * 100.0 / (df.n_0 + df.n_1 + df.n_2 + df.n_3 + df.n_4)), 2).alias(\"per_0p\"),\n",
    "       round((df.n_1 * 100.0 / (df.n_0 + df.n_1 + df.n_2 + df.n_3 + df.n_4)), 2).alias(\"per_1p\"),\n",
    "       round((df.n_2 * 100.0 / (df.n_0 + df.n_1 + df.n_2 + df.n_3 + df.n_4)), 2).alias(\"per_2p\"),\n",
    "       round((df.n_3 * 100.0 / (df.n_0 + df.n_1 + df.n_2 + df.n_3 + df.n_4)), 2).alias(\"per_3p\"),\n",
    "       round((df.n_4 * 100.0 / (df.n_0 + df.n_1 + df.n_2 + df.n_3 + df.n_4)), 2).alias(\"per_4p+\"),\n",
    "       df.min_0p, df.max_0p, df.min_1p, df.max_1p, df.min_2p, df.max_2p, df.min_3p, df.max_3p, \n",
    "       df.min_4p.alias(\"min_4p+\"), df.max_4p.alias(\"max_4p+\"))\\\n",
    "  .orderBy(df.pickup_date).cache()\n",
    "df.show(40)"
   ]
  },
  {
   "cell_type": "code",
   "execution_count": 21,
   "id": "7fe0f730",
   "metadata": {},
   "outputs": [],
   "source": [
    "df.write.csv(\"output_data_spark/datamart_spark.csv\", mode=\"overwrite\", header=True)"
   ]
  },
  {
   "cell_type": "code",
   "execution_count": 22,
   "id": "74cefd8b",
   "metadata": {},
   "outputs": [],
   "source": [
    "df.write.parquet(\"output_data_spark/datamart_spark.parquet\", mode=\"overwrite\")"
   ]
  },
  {
   "cell_type": "code",
   "execution_count": 23,
   "id": "2bd117e6",
   "metadata": {},
   "outputs": [],
   "source": [
    "spark.catalog.clearCache()"
   ]
  }
 ],
 "metadata": {
  "kernelspec": {
   "display_name": "Python 3 (ipykernel)",
   "language": "python",
   "name": "python3"
  },
  "language_info": {
   "codemirror_mode": {
    "name": "ipython",
    "version": 3
   },
   "file_extension": ".py",
   "mimetype": "text/x-python",
   "name": "python",
   "nbconvert_exporter": "python",
   "pygments_lexer": "ipython3",
   "version": "3.8.18"
  }
 },
 "nbformat": 4,
 "nbformat_minor": 5
}
